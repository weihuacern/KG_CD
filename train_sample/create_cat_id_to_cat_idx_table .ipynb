{
 "cells": [
  {
   "cell_type": "code",
   "execution_count": 1,
   "metadata": {
    "_cell_guid": "4036f11e-5223-46e5-8948-5cbf70a9bf73",
    "_uuid": "3767d2738682e30c292a466f66bc75fcc80a5076"
   },
   "outputs": [],
   "source": [
    "import os, sys, math, io\n",
    "import numpy as np\n",
    "import pandas as pd\n",
    "import multiprocessing as mp\n",
    "import bson\n",
    "import struct\n",
    "from skimage.data import imread\n",
    "from skimage import transform\n",
    "\n",
    "%matplotlib inline\n",
    "import matplotlib.pyplot as plt\n",
    "\n",
    "from collections import defaultdict\n",
    "from tqdm import *\n"
   ]
  },
  {
   "cell_type": "code",
   "execution_count": 2,
   "metadata": {
    "_cell_guid": "dfec6cb3-3b14-44cc-920c-c4bba4f79589",
    "_uuid": "1d92f3f86af7906e204eec1d536bd29878fed02d"
   },
   "outputs": [],
   "source": [
    "data_dir = \"./input/\"\n",
    "train_bson_path = os.path.join(data_dir, \"train_example.bson\")\n",
    "num_train_products = 82"
   ]
  },
  {
   "cell_type": "markdown",
   "metadata": {
    "_cell_guid": "3c24b66f-0f55-4007-86d9-aae6ec1c16bc",
    "_uuid": "0c1457925b72937cc9b8d431142f06098cbfe06c"
   },
   "source": [
    "# Part 1: Create lookup tables\n",
    "\n",
    "The generator uses several lookup tables that describe the layout of the BSON file, which products and images are part of the training/validation sets, and so on.\n",
    "\n",
    "You only need to generate these tables once, as they get saved to CSV files. If you already have these CSV files, skip to part 2."
   ]
  },
  {
   "cell_type": "markdown",
   "metadata": {
    "_cell_guid": "593c6f49-83eb-4491-bcd1-0131845e395c",
    "_uuid": "7ea59756f0ab3eb271e2b5d6495e6a158311de35"
   },
   "source": [
    "## Lookup table for categories"
   ]
  },
  {
   "cell_type": "code",
   "execution_count": 3,
   "metadata": {
    "_cell_guid": "c049b397-8b31-4389-9657-f0281c5f7b4f",
    "_uuid": "c2a19dc1ea89274a1ab3332fa635e6dfdc385ce6"
   },
   "outputs": [],
   "source": [
    "categories_path = os.path.join(data_dir, \"category_names.csv\")\n",
    "categories_df = pd.read_csv(categories_path, index_col=\"category_id\")\n",
    "\n",
    "# Maps the category_id to an integer index. This will be the ground truth label in training.\n",
    "categories_df[\"category_idx\"] = pd.Series(range(len(categories_df)), index=categories_df.index)"
   ]
  },
  {
   "cell_type": "markdown",
   "metadata": {},
   "source": [
    "### Check if there is any null in the categories"
   ]
  },
  {
   "cell_type": "code",
   "execution_count": 4,
   "metadata": {},
   "outputs": [
    {
     "name": "stdout",
     "output_type": "stream",
     "text": [
      "<class 'pandas.core.frame.DataFrame'>\n",
      "Int64Index: 5270 entries, 1000021794 to 1000003400\n",
      "Data columns (total 4 columns):\n",
      "category_level1    5270 non-null object\n",
      "category_level2    5270 non-null object\n",
      "category_level3    5270 non-null object\n",
      "category_idx       5270 non-null int64\n",
      "dtypes: int64(1), object(3)\n",
      "memory usage: 205.9+ KB\n"
     ]
    }
   ],
   "source": [
    "categories_df.info()"
   ]
  },
  {
   "cell_type": "code",
   "execution_count": 5,
   "metadata": {},
   "outputs": [
    {
     "data": {
      "text/html": [
       "<div>\n",
       "<style>\n",
       "    .dataframe thead tr:only-child th {\n",
       "        text-align: right;\n",
       "    }\n",
       "\n",
       "    .dataframe thead th {\n",
       "        text-align: left;\n",
       "    }\n",
       "\n",
       "    .dataframe tbody tr th {\n",
       "        vertical-align: top;\n",
       "    }\n",
       "</style>\n",
       "<table border=\"1\" class=\"dataframe\">\n",
       "  <thead>\n",
       "    <tr style=\"text-align: right;\">\n",
       "      <th></th>\n",
       "      <th>category_level1</th>\n",
       "      <th>category_level2</th>\n",
       "      <th>category_level3</th>\n",
       "      <th>category_idx</th>\n",
       "    </tr>\n",
       "    <tr>\n",
       "      <th>category_id</th>\n",
       "      <th></th>\n",
       "      <th></th>\n",
       "      <th></th>\n",
       "      <th></th>\n",
       "    </tr>\n",
       "  </thead>\n",
       "  <tbody>\n",
       "    <tr>\n",
       "      <th>1000021794</th>\n",
       "      <td>ABONNEMENT / SERVICES</td>\n",
       "      <td>CARTE PREPAYEE</td>\n",
       "      <td>CARTE PREPAYEE MULTIMEDIA</td>\n",
       "      <td>0</td>\n",
       "    </tr>\n",
       "    <tr>\n",
       "      <th>1000012764</th>\n",
       "      <td>AMENAGEMENT URBAIN - VOIRIE</td>\n",
       "      <td>AMENAGEMENT URBAIN</td>\n",
       "      <td>ABRI FUMEUR</td>\n",
       "      <td>1</td>\n",
       "    </tr>\n",
       "    <tr>\n",
       "      <th>1000012776</th>\n",
       "      <td>AMENAGEMENT URBAIN - VOIRIE</td>\n",
       "      <td>AMENAGEMENT URBAIN</td>\n",
       "      <td>ABRI VELO - ABRI MOTO</td>\n",
       "      <td>2</td>\n",
       "    </tr>\n",
       "    <tr>\n",
       "      <th>1000012768</th>\n",
       "      <td>AMENAGEMENT URBAIN - VOIRIE</td>\n",
       "      <td>AMENAGEMENT URBAIN</td>\n",
       "      <td>FONTAINE A EAU</td>\n",
       "      <td>3</td>\n",
       "    </tr>\n",
       "    <tr>\n",
       "      <th>1000012755</th>\n",
       "      <td>AMENAGEMENT URBAIN - VOIRIE</td>\n",
       "      <td>SIGNALETIQUE</td>\n",
       "      <td>PANNEAU D'INFORMATION EXTERIEUR</td>\n",
       "      <td>4</td>\n",
       "    </tr>\n",
       "  </tbody>\n",
       "</table>\n",
       "</div>"
      ],
      "text/plain": [
       "                         category_level1     category_level2  \\\n",
       "category_id                                                    \n",
       "1000021794         ABONNEMENT / SERVICES      CARTE PREPAYEE   \n",
       "1000012764   AMENAGEMENT URBAIN - VOIRIE  AMENAGEMENT URBAIN   \n",
       "1000012776   AMENAGEMENT URBAIN - VOIRIE  AMENAGEMENT URBAIN   \n",
       "1000012768   AMENAGEMENT URBAIN - VOIRIE  AMENAGEMENT URBAIN   \n",
       "1000012755   AMENAGEMENT URBAIN - VOIRIE        SIGNALETIQUE   \n",
       "\n",
       "                             category_level3  category_idx  \n",
       "category_id                                                 \n",
       "1000021794         CARTE PREPAYEE MULTIMEDIA             0  \n",
       "1000012764                       ABRI FUMEUR             1  \n",
       "1000012776             ABRI VELO - ABRI MOTO             2  \n",
       "1000012768                    FONTAINE A EAU             3  \n",
       "1000012755   PANNEAU D'INFORMATION EXTERIEUR             4  "
      ]
     },
     "execution_count": 5,
     "metadata": {},
     "output_type": "execute_result"
    }
   ],
   "source": [
    "categories_df.head()"
   ]
  },
  {
   "cell_type": "code",
   "execution_count": 6,
   "metadata": {},
   "outputs": [
    {
     "data": {
      "text/html": [
       "<div>\n",
       "<style>\n",
       "    .dataframe thead tr:only-child th {\n",
       "        text-align: right;\n",
       "    }\n",
       "\n",
       "    .dataframe thead th {\n",
       "        text-align: left;\n",
       "    }\n",
       "\n",
       "    .dataframe tbody tr th {\n",
       "        vertical-align: top;\n",
       "    }\n",
       "</style>\n",
       "<table border=\"1\" class=\"dataframe\">\n",
       "  <thead>\n",
       "    <tr style=\"text-align: right;\">\n",
       "      <th></th>\n",
       "      <th>category_level1</th>\n",
       "      <th>category_level2</th>\n",
       "      <th>category_level3</th>\n",
       "      <th>category_idx</th>\n",
       "    </tr>\n",
       "    <tr>\n",
       "      <th>category_id</th>\n",
       "      <th></th>\n",
       "      <th></th>\n",
       "      <th></th>\n",
       "      <th></th>\n",
       "    </tr>\n",
       "  </thead>\n",
       "  <tbody>\n",
       "    <tr>\n",
       "      <th>1000003412</th>\n",
       "      <td>VIN - ALCOOL - LIQUIDES</td>\n",
       "      <td>JUS - SODA -SIROP-BOISSON LACTEE</td>\n",
       "      <td>SODA-THE GLACE</td>\n",
       "      <td>5265</td>\n",
       "    </tr>\n",
       "    <tr>\n",
       "      <th>1000003530</th>\n",
       "      <td>VIN - ALCOOL - LIQUIDES</td>\n",
       "      <td>VIN</td>\n",
       "      <td>ASSORTIMENT VIN</td>\n",
       "      <td>5266</td>\n",
       "    </tr>\n",
       "    <tr>\n",
       "      <th>1000003402</th>\n",
       "      <td>VIN - ALCOOL - LIQUIDES</td>\n",
       "      <td>VIN</td>\n",
       "      <td>VIN BLANC</td>\n",
       "      <td>5267</td>\n",
       "    </tr>\n",
       "    <tr>\n",
       "      <th>1000003404</th>\n",
       "      <td>VIN - ALCOOL - LIQUIDES</td>\n",
       "      <td>VIN</td>\n",
       "      <td>VIN ROSE</td>\n",
       "      <td>5268</td>\n",
       "    </tr>\n",
       "    <tr>\n",
       "      <th>1000003400</th>\n",
       "      <td>VIN - ALCOOL - LIQUIDES</td>\n",
       "      <td>VIN</td>\n",
       "      <td>VIN ROUGE</td>\n",
       "      <td>5269</td>\n",
       "    </tr>\n",
       "  </tbody>\n",
       "</table>\n",
       "</div>"
      ],
      "text/plain": [
       "                     category_level1                   category_level2  \\\n",
       "category_id                                                              \n",
       "1000003412   VIN - ALCOOL - LIQUIDES  JUS - SODA -SIROP-BOISSON LACTEE   \n",
       "1000003530   VIN - ALCOOL - LIQUIDES                               VIN   \n",
       "1000003402   VIN - ALCOOL - LIQUIDES                               VIN   \n",
       "1000003404   VIN - ALCOOL - LIQUIDES                               VIN   \n",
       "1000003400   VIN - ALCOOL - LIQUIDES                               VIN   \n",
       "\n",
       "             category_level3  category_idx  \n",
       "category_id                                 \n",
       "1000003412    SODA-THE GLACE          5265  \n",
       "1000003530   ASSORTIMENT VIN          5266  \n",
       "1000003402         VIN BLANC          5267  \n",
       "1000003404          VIN ROSE          5268  \n",
       "1000003400         VIN ROUGE          5269  "
      ]
     },
     "execution_count": 6,
     "metadata": {},
     "output_type": "execute_result"
    }
   ],
   "source": [
    "categories_df.tail()"
   ]
  },
  {
   "cell_type": "markdown",
   "metadata": {
    "_cell_guid": "92491e45-56da-4d64-a887-6cf7a8c8cd30",
    "_uuid": "05ccbed26b3518d90ddcc9c26668f6008b89cb0f"
   },
   "source": [
    "## Create dictionaries for quick lookup of `category_id` to `category_idx` mapping."
   ]
  },
  {
   "cell_type": "markdown",
   "metadata": {},
   "source": [
    "### take a look at the categories."
   ]
  },
  {
   "cell_type": "code",
   "execution_count": 7,
   "metadata": {},
   "outputs": [
    {
     "name": "stdout",
     "output_type": "stream",
     "text": [
      "5270\n",
      "49\n",
      "483\n",
      "5263\n"
     ]
    }
   ],
   "source": [
    "print(len(categories_df))\n",
    "print(len(categories_df['category_level1'].unique()))\n",
    "print(len(categories_df['category_level2'].unique()))\n",
    "print(len(categories_df['category_level3'].unique()))"
   ]
  },
  {
   "cell_type": "code",
   "execution_count": 8,
   "metadata": {},
   "outputs": [
    {
     "data": {
      "text/plain": [
       "array(['ABONNEMENT / SERVICES', 'AMENAGEMENT URBAIN - VOIRIE',\n",
       "       'ANIMALERIE', 'APICULTURE', 'ART DE LA TABLE - ARTICLES CULINAIRES',\n",
       "       'ARTICLES POUR FUMEUR', 'AUTO - MOTO', 'BAGAGERIE',\n",
       "       'BATEAU MOTEUR - VOILIER', 'BIJOUX -  LUNETTES - MONTRES',\n",
       "       'BRICOLAGE - OUTILLAGE - QUINCAILLERIE', 'CHAUSSURES - ACCESSOIRES',\n",
       "       'COFFRET CADEAU BOX', 'CONDITIONNEMENT', 'DECO - LINGE - LUMINAIRE',\n",
       "       'DROGUERIE', 'DVD - BLU-RAY', 'ELECTROMENAGER', 'ELECTRONIQUE',\n",
       "       'EPICERIE', 'FUNERAIRE', 'HYGIENE - BEAUTE - PARFUM',\n",
       "       'INFORMATIQUE', 'INSTRUMENTS DE MUSIQUE', 'JARDIN - PISCINE',\n",
       "       'JEUX - JOUETS', 'JEUX VIDEO', 'LIBRAIRIE', 'LITERIE',\n",
       "       'LOISIRS CREATIFS - BEAUX ARTS - PAPETERIE', 'MANUTENTION',\n",
       "       'MATERIEL DE BUREAU', 'MATERIEL MEDICAL', 'MERCERIE', 'MEUBLE',\n",
       "       'MUSIQUE', 'PARAPHARMACIE', 'PHOTO - OPTIQUE',\n",
       "       'POINT DE VENTE - COMMERCE - ADMINISTRATION', 'PRODUITS FRAIS',\n",
       "       'PRODUITS SURGELES', 'PUERICULTURE', 'SONO - DJ', 'SPORT',\n",
       "       'TATOUAGE - PIERCING', 'TELEPHONIE - GPS', 'TENUE PROFESSIONNELLE',\n",
       "       'TV - VIDEO - SON', 'VIN - ALCOOL - LIQUIDES'], dtype=object)"
      ]
     },
     "execution_count": 8,
     "metadata": {},
     "output_type": "execute_result"
    }
   ],
   "source": [
    "categories_df['category_level1'].unique()"
   ]
  },
  {
   "cell_type": "markdown",
   "metadata": {},
   "source": [
    "### maps the category_id to (level1_idx, level2_idx, level3_idx, category_idx)\n",
    "level1_idx, level2_idx, category_idx will be useful in the training."
   ]
  },
  {
   "cell_type": "code",
   "execution_count": 9,
   "metadata": {},
   "outputs": [],
   "source": [
    "level1_map = dict(zip(categories_df['category_level1'].unique(), range(49)))\n",
    "level2_map = dict(zip(categories_df['category_level2'].unique(), range(483)))\n",
    "level3_map = dict(zip(categories_df['category_level3'].unique(), range(5263)))\n",
    "#no need for level3_map, which is almost the same as the category id."
   ]
  },
  {
   "cell_type": "code",
   "execution_count": 10,
   "metadata": {},
   "outputs": [
    {
     "data": {
      "text/html": [
       "<div>\n",
       "<style>\n",
       "    .dataframe thead tr:only-child th {\n",
       "        text-align: right;\n",
       "    }\n",
       "\n",
       "    .dataframe thead th {\n",
       "        text-align: left;\n",
       "    }\n",
       "\n",
       "    .dataframe tbody tr th {\n",
       "        vertical-align: top;\n",
       "    }\n",
       "</style>\n",
       "<table border=\"1\" class=\"dataframe\">\n",
       "  <thead>\n",
       "    <tr style=\"text-align: right;\">\n",
       "      <th></th>\n",
       "      <th>category_level1</th>\n",
       "      <th>category_level2</th>\n",
       "      <th>category_level3</th>\n",
       "      <th>category_idx</th>\n",
       "    </tr>\n",
       "    <tr>\n",
       "      <th>category_id</th>\n",
       "      <th></th>\n",
       "      <th></th>\n",
       "      <th></th>\n",
       "      <th></th>\n",
       "    </tr>\n",
       "  </thead>\n",
       "  <tbody>\n",
       "    <tr>\n",
       "      <th>1000021794</th>\n",
       "      <td>0</td>\n",
       "      <td>0</td>\n",
       "      <td>0</td>\n",
       "      <td>0</td>\n",
       "    </tr>\n",
       "    <tr>\n",
       "      <th>1000012764</th>\n",
       "      <td>1</td>\n",
       "      <td>1</td>\n",
       "      <td>1</td>\n",
       "      <td>1</td>\n",
       "    </tr>\n",
       "    <tr>\n",
       "      <th>1000012776</th>\n",
       "      <td>1</td>\n",
       "      <td>1</td>\n",
       "      <td>2</td>\n",
       "      <td>2</td>\n",
       "    </tr>\n",
       "    <tr>\n",
       "      <th>1000012768</th>\n",
       "      <td>1</td>\n",
       "      <td>1</td>\n",
       "      <td>3</td>\n",
       "      <td>3</td>\n",
       "    </tr>\n",
       "    <tr>\n",
       "      <th>1000012755</th>\n",
       "      <td>1</td>\n",
       "      <td>2</td>\n",
       "      <td>4</td>\n",
       "      <td>4</td>\n",
       "    </tr>\n",
       "  </tbody>\n",
       "</table>\n",
       "</div>"
      ],
      "text/plain": [
       "             category_level1  category_level2  category_level3  category_idx\n",
       "category_id                                                                 \n",
       "1000021794                 0                0                0             0\n",
       "1000012764                 1                1                1             1\n",
       "1000012776                 1                1                2             2\n",
       "1000012768                 1                1                3             3\n",
       "1000012755                 1                2                4             4"
      ]
     },
     "execution_count": 10,
     "metadata": {},
     "output_type": "execute_result"
    }
   ],
   "source": [
    "categories_df['category_level1'] = categories_df['category_level1'].map(level1_map).astype(int)\n",
    "categories_df['category_level2'] = categories_df['category_level2'].map(level2_map).astype(int)\n",
    "categories_df['category_level3'] = categories_df['category_level3'].map(level3_map).astype(int)\n",
    "categories_df.head()"
   ]
  },
  {
   "cell_type": "code",
   "execution_count": 11,
   "metadata": {},
   "outputs": [],
   "source": [
    "categories_df.to_csv('categories_name_to_id.csv')"
   ]
  },
  {
   "cell_type": "code",
   "execution_count": 12,
   "metadata": {},
   "outputs": [],
   "source": [
    "id_idx = zip(categories_df.index, categories_df['category_idx']) #cat_id --> cat_idx\n",
    "idx_id = zip(categories_df['category_idx'], categories_df.index) #cat_idx --> cat_id\n",
    "id_level1 = zip(categories_df.index, categories_df['category_level1']) #cat_id --> level1_idx\n",
    "id_level2 = zip(categories_df.index, categories_df['category_level2']) #cat_id --> level2_idx\n",
    "cat2idx = dict(id_idx)\n",
    "idx2cat = dict(idx_id)\n",
    "cat2l1 = dict(id_level1)\n",
    "cat2l2 = dict(id_level2)"
   ]
  },
  {
   "cell_type": "code",
   "execution_count": 13,
   "metadata": {},
   "outputs": [
    {
     "data": {
      "text/plain": [
       "(4, 1000012755)"
      ]
     },
     "execution_count": 13,
     "metadata": {},
     "output_type": "execute_result"
    }
   ],
   "source": [
    "cat2idx[1000012755], idx2cat[4]"
   ]
  },
  {
   "cell_type": "code",
   "execution_count": 14,
   "metadata": {},
   "outputs": [
    {
     "data": {
      "text/plain": [
       "(1, 2)"
      ]
     },
     "execution_count": 14,
     "metadata": {},
     "output_type": "execute_result"
    }
   ],
   "source": [
    "cat2l1[1000012755], cat2l2[1000012755]"
   ]
  }
 ],
 "metadata": {
  "kernelspec": {
   "display_name": "Python 3",
   "language": "python",
   "name": "python3"
  },
  "language_info": {
   "codemirror_mode": {
    "name": "ipython",
    "version": 3
   },
   "file_extension": ".py",
   "mimetype": "text/x-python",
   "name": "python",
   "nbconvert_exporter": "python",
   "pygments_lexer": "ipython3",
   "version": "3.6.3"
  }
 },
 "nbformat": 4,
 "nbformat_minor": 1
}
